{
 "cells": [
  {
   "cell_type": "markdown",
   "metadata": {},
   "source": [
    "__This script help to make two folders: `pneumonia` and `normal` (without pneumonia).__"
   ]
  },
  {
   "cell_type": "code",
   "execution_count": null,
   "metadata": {},
   "outputs": [],
   "source": [
    "import os\n",
    "import shutil\n",
    "import pandas as pd"
   ]
  },
  {
   "cell_type": "code",
   "execution_count": null,
   "metadata": {},
   "outputs": [],
   "source": [
    "src = 'stage_2_train_images_png/'\n",
    "dest0 = './data/normal'\n",
    "dest1 = './data/pneumonia'\n",
    "df = pd.read_csv('stage_2_train_labels.csv')"
   ]
  },
  {
   "cell_type": "code",
   "execution_count": null,
   "metadata": {},
   "outputs": [],
   "source": [
    "x = 0\n",
    "for idx,row in df.iterrows():\n",
    "    print (idx)\n",
    "    \n",
    "    if(row[\"Target\"] == 1):\n",
    "        itemsrc = src  + row[\"patientId\"] +\".png\"\n",
    "        itemdest = dest1\n",
    "        shutil.copy(itemsrc,itemdest)\n",
    "    \n",
    "    if(row[\"Target\"] == 0):\n",
    "        itemsrc = src  + row[\"patientId\"] +\".png\"\n",
    "        itemdest = dest0\n",
    "        shutil.copy(itemsrc,itemdest)"
   ]
  },
  {
   "cell_type": "code",
   "execution_count": null,
   "metadata": {},
   "outputs": [],
   "source": []
  }
 ],
 "metadata": {
  "kernelspec": {
   "display_name": "Python 3",
   "language": "python",
   "name": "python3"
  },
  "language_info": {
   "codemirror_mode": {
    "name": "ipython",
    "version": 3
   },
   "file_extension": ".py",
   "mimetype": "text/x-python",
   "name": "python",
   "nbconvert_exporter": "python",
   "pygments_lexer": "ipython3",
   "version": "3.6.5"
  }
 },
 "nbformat": 4,
 "nbformat_minor": 2
}
