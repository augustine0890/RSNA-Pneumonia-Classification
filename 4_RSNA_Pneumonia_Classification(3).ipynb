{
  "nbformat": 4,
  "nbformat_minor": 0,
  "metadata": {
    "colab": {
      "name": "4_RSNA Pneumonia Classification(3).ipynb",
      "version": "0.3.2",
      "provenance": [],
      "collapsed_sections": []
    },
    "kernelspec": {
      "name": "python3",
      "display_name": "Python 3"
    },
    "accelerator": "GPU"
  },
  "cells": [
    {
      "metadata": {
        "id": "xLyaOyno6yFb",
        "colab_type": "code",
        "outputId": "385ab1d3-e850-45ca-b19d-d1639c6f6242",
        "colab": {
          "base_uri": "https://localhost:8080/",
          "height": 34
        }
      },
      "cell_type": "code",
      "source": [
        "from google.colab import drive\n",
        "drive.mount('/content/drive/')"
      ],
      "execution_count": 21,
      "outputs": [
        {
          "output_type": "stream",
          "text": [
            "Drive already mounted at /content/drive/; to attempt to forcibly remount, call drive.mount(\"/content/drive/\", force_remount=True).\n"
          ],
          "name": "stdout"
        }
      ]
    },
    {
      "metadata": {
        "id": "lAS_Pf7o6NKE",
        "colab_type": "code",
        "outputId": "b2750c0c-e561-4215-e782-01b6d26fd0d2",
        "colab": {
          "base_uri": "https://localhost:8080/",
          "height": 339
        }
      },
      "cell_type": "code",
      "source": [
        "!pip install matplotlib\n",
        "!pip install -q keras\n",
        "!pip install Cython\n",
        "!pip install https://github.com/scikit-learn/scikit-learn/archive/master.zip"
      ],
      "execution_count": 22,
      "outputs": [
        {
          "output_type": "stream",
          "text": [
            "Requirement already satisfied: matplotlib in /usr/local/lib/python3.6/dist-packages (2.1.2)\n",
            "Requirement already satisfied: cycler>=0.10 in /usr/local/lib/python3.6/dist-packages (from matplotlib) (0.10.0)\n",
            "Requirement already satisfied: pytz in /usr/local/lib/python3.6/dist-packages (from matplotlib) (2018.7)\n",
            "Requirement already satisfied: pyparsing!=2.0.4,!=2.1.2,!=2.1.6,>=2.0.1 in /usr/local/lib/python3.6/dist-packages (from matplotlib) (2.3.0)\n",
            "Requirement already satisfied: python-dateutil>=2.1 in /usr/local/lib/python3.6/dist-packages (from matplotlib) (2.5.3)\n",
            "Requirement already satisfied: numpy>=1.7.1 in /usr/local/lib/python3.6/dist-packages (from matplotlib) (1.14.6)\n",
            "Requirement already satisfied: six>=1.10 in /usr/local/lib/python3.6/dist-packages (from matplotlib) (1.11.0)\n",
            "Requirement already satisfied: Cython in /usr/local/lib/python3.6/dist-packages (0.29.2)\n",
            "Collecting https://github.com/scikit-learn/scikit-learn/archive/master.zip\n",
            "  Downloading https://github.com/scikit-learn/scikit-learn/archive/master.zip\n",
            "\u001b[K     \\ 21.8MB 78.3MB/s\n",
            "Requirement already satisfied (use --upgrade to upgrade): scikit-learn==0.21.dev0 from https://github.com/scikit-learn/scikit-learn/archive/master.zip in /usr/local/lib/python3.6/dist-packages\n",
            "Requirement already satisfied: numpy>=1.11.0 in /usr/local/lib/python3.6/dist-packages (from scikit-learn==0.21.dev0) (1.14.6)\n",
            "Requirement already satisfied: scipy>=0.17.0 in /usr/local/lib/python3.6/dist-packages (from scikit-learn==0.21.dev0) (1.1.0)\n",
            "Building wheels for collected packages: scikit-learn\n",
            "  Running setup.py bdist_wheel for scikit-learn ... \u001b[?25l-\b \b\\\b \b|\b \b/\b \b-\b \b\\\b \b|\b \b/\b \b-\b \b\\\b \b|\b \b/\b \b-\b \b\\\b \b|\b \b/\b \b-\b \b\\\b \b|\b \b/\b \b-\b \b\\\b \b|\b \b/\b \b-\b \b\\\b \b|\b \b/\b \b-\b \b\\\b \b|\b \b/\b \b-\b \b\\\b \b|\b \b/\b \b-\b \b\\\b \b|\b \b/\b \b-\b \b\\\b \b|\b \b/\b \b-\b \b\\\b \b|\b \b/\b \b-\b \b\\\b \b|\b \b/\b \b-\b \b\\\b \b|\b \b/\b \b-\b \b\\\b \b|\b \b/\b \b-\b \b\\\b \b|\b \b/\b \b-\b \b\\\b \b|\b \b/\b \b-\b \b\\\b \b|\b \b/\b \b-\b \b\\\b \b|\b \b/\b \b-\b \b\\\b \b|\b \b/\b \b-\b \b\\\b \b|\b \b/\b \b-\b \b\\\b \b|\b \b/\b \b-\b \b\\\b \b|\b \b/\b \b-\b \b\\\b \b|\b \b/\b \b-\b \b\\\b \b|\b \b/\b \b-\b \b\\\b \b|\b \b/\b \b-\b \b\\\b \b|\b \b/\b \b-\b \b\\\b \bdone\n",
            "\u001b[?25h  Stored in directory: /tmp/pip-ephem-wheel-cache-1ur5mtxr/wheels/9e/4b/7e/56798a5efcb7101fb6518d859ba612b4c38ff8be4898bdfb6f\n",
            "Successfully built scikit-learn\n"
          ],
          "name": "stdout"
        }
      ]
    },
    {
      "metadata": {
        "id": "Q_791xjr-xoV",
        "colab_type": "code",
        "colab": {}
      },
      "cell_type": "code",
      "source": [
        "import pickle\n",
        "import numpy as np\n",
        "import matplotlib.pyplot as plt\n",
        "from keras.models import Sequential, Model\n",
        "from keras.preprocessing.image import ImageDataGenerator\n",
        "from keras.preprocessing.image import img_to_array, load_img\n",
        "from keras import layers, models, optimizers\n",
        "from keras import applications\n",
        "from keras import backend as K\n",
        "from sklearn.model_selection import train_test_split"
      ],
      "execution_count": 0,
      "outputs": []
    },
    {
      "metadata": {
        "id": "dePDVyLV6xgv",
        "colab_type": "code",
        "outputId": "3760ec14-e31d-4a7d-ba39-adf6b45b2645",
        "colab": {
          "base_uri": "https://localhost:8080/",
          "height": 50
        }
      },
      "cell_type": "code",
      "source": [
        "!ls '/content/drive/My Drive/Works/Colaboratory/DoAI'"
      ],
      "execution_count": 24,
      "outputs": [
        {
          "output_type": "stream",
          "text": [
            "'4_RSNA Pneumonia Classification(3).ipynb'   X.pickle\t    y.pickle\n",
            " X_256.pickle\t\t\t\t     y_256.pickle\n"
          ],
          "name": "stdout"
        }
      ]
    },
    {
      "metadata": {
        "id": "AHkru1FlHWO6",
        "colab_type": "text"
      },
      "cell_type": "markdown",
      "source": [
        "__Load the datasete from previous sections__"
      ]
    },
    {
      "metadata": {
        "id": "BDyzGfLhAeUC",
        "colab_type": "code",
        "colab": {}
      },
      "cell_type": "code",
      "source": [
        "pickle_in = open('/content/drive/My Drive/Works/Colaboratory/DoAI/X.pickle','rb')\n",
        "X = pickle.load(pickle_in)"
      ],
      "execution_count": 0,
      "outputs": []
    },
    {
      "metadata": {
        "id": "uOYLgp9mAjjz",
        "colab_type": "code",
        "colab": {}
      },
      "cell_type": "code",
      "source": [
        "pickle_in = open('/content/drive/My Drive/Works/Colaboratory/DoAI/y.pickle','rb')\n",
        "y = pickle.load(pickle_in)"
      ],
      "execution_count": 0,
      "outputs": []
    },
    {
      "metadata": {
        "id": "hKuTK3fDIxFY",
        "colab_type": "text"
      },
      "cell_type": "markdown",
      "source": [
        "Let's try with 80% for training and 20% for validation."
      ]
    },
    {
      "metadata": {
        "id": "fkn7czqLBCzu",
        "colab_type": "code",
        "colab": {}
      },
      "cell_type": "code",
      "source": [
        "X_train, X_val, y_train, y_val = train_test_split(X,y, test_size=0.2, random_state=101)"
      ],
      "execution_count": 0,
      "outputs": []
    },
    {
      "metadata": {
        "id": "yDkycHtxB2SC",
        "colab_type": "code",
        "colab": {}
      },
      "cell_type": "code",
      "source": [
        "nb_train_samples = len(X_train)\n",
        "nb_validation_samples = len(X_val)\n",
        "batch_size = 16\n",
        "img_size = 180"
      ],
      "execution_count": 0,
      "outputs": []
    },
    {
      "metadata": {
        "id": "r3aoLKb5B4Ph",
        "colab_type": "code",
        "outputId": "52873b00-e2c2-4c7d-ed47-892bb8462712",
        "colab": {
          "base_uri": "https://localhost:8080/",
          "height": 638
        }
      },
      "cell_type": "code",
      "source": [
        "model = models.Sequential()\n",
        "\n",
        "model.add(layers.Conv2D(32, (3, 3), input_shape=(img_size, img_size, 3)))\n",
        "model.add(layers.Activation('relu'))\n",
        "model.add(layers.MaxPooling2D(pool_size=(2, 2)))\n",
        "\n",
        "model.add(layers.Conv2D(32, (3, 3)))\n",
        "model.add(layers.Activation('relu'))\n",
        "model.add(layers.MaxPooling2D(pool_size=(2, 2)))\n",
        "\n",
        "model.add(layers.Conv2D(64, (3, 3)))\n",
        "model.add(layers.Activation('relu'))\n",
        "model.add(layers.MaxPooling2D(pool_size=(2, 2)))\n",
        "\n",
        "model.add(layers.Flatten())\n",
        "model.add(layers.Dense(64))\n",
        "model.add(layers.Activation('relu'))\n",
        "model.add(layers.Dropout(0.5))\n",
        "model.add(layers.Dense(1))\n",
        "model.add(layers.Activation('sigmoid'))\n",
        "\n",
        "model.compile(loss='binary_crossentropy',\n",
        "              optimizer='rmsprop',\n",
        "              metrics=['accuracy'])\n",
        "\n",
        "model.summary()"
      ],
      "execution_count": 29,
      "outputs": [
        {
          "output_type": "stream",
          "text": [
            "_________________________________________________________________\n",
            "Layer (type)                 Output Shape              Param #   \n",
            "=================================================================\n",
            "conv2d_1 (Conv2D)            (None, 178, 178, 32)      896       \n",
            "_________________________________________________________________\n",
            "activation_1 (Activation)    (None, 178, 178, 32)      0         \n",
            "_________________________________________________________________\n",
            "max_pooling2d_1 (MaxPooling2 (None, 89, 89, 32)        0         \n",
            "_________________________________________________________________\n",
            "conv2d_2 (Conv2D)            (None, 87, 87, 32)        9248      \n",
            "_________________________________________________________________\n",
            "activation_2 (Activation)    (None, 87, 87, 32)        0         \n",
            "_________________________________________________________________\n",
            "max_pooling2d_2 (MaxPooling2 (None, 43, 43, 32)        0         \n",
            "_________________________________________________________________\n",
            "conv2d_3 (Conv2D)            (None, 41, 41, 64)        18496     \n",
            "_________________________________________________________________\n",
            "activation_3 (Activation)    (None, 41, 41, 64)        0         \n",
            "_________________________________________________________________\n",
            "max_pooling2d_3 (MaxPooling2 (None, 20, 20, 64)        0         \n",
            "_________________________________________________________________\n",
            "flatten_2 (Flatten)          (None, 25600)             0         \n",
            "_________________________________________________________________\n",
            "dense_3 (Dense)              (None, 64)                1638464   \n",
            "_________________________________________________________________\n",
            "activation_4 (Activation)    (None, 64)                0         \n",
            "_________________________________________________________________\n",
            "dropout_1 (Dropout)          (None, 64)                0         \n",
            "_________________________________________________________________\n",
            "dense_4 (Dense)              (None, 1)                 65        \n",
            "_________________________________________________________________\n",
            "activation_5 (Activation)    (None, 1)                 0         \n",
            "=================================================================\n",
            "Total params: 1,667,169\n",
            "Trainable params: 1,667,169\n",
            "Non-trainable params: 0\n",
            "_________________________________________________________________\n"
          ],
          "name": "stdout"
        }
      ]
    },
    {
      "metadata": {
        "id": "eC6cz18oB6eA",
        "colab_type": "code",
        "colab": {}
      },
      "cell_type": "code",
      "source": [
        "train_datagen = ImageDataGenerator(\n",
        "    rescale=1. / 255,\n",
        "    shear_range=0.2,\n",
        "    zoom_range=0.2,\n",
        "    horizontal_flip=True)\n",
        "\n",
        "val_datagen = ImageDataGenerator(\n",
        "    rescale=1. / 255,\n",
        "    shear_range=0.2,\n",
        "    zoom_range=0.2,\n",
        "    horizontal_flip=True)"
      ],
      "execution_count": 0,
      "outputs": []
    },
    {
      "metadata": {
        "id": "B75nSmakCb1R",
        "colab_type": "code",
        "colab": {}
      },
      "cell_type": "code",
      "source": [
        "train_generator = train_datagen.flow(np.array(X_train), y_train, batch_size=batch_size)\n",
        "validation_generator = val_datagen.flow(np.array(X_val), y_val, batch_size=batch_size)"
      ],
      "execution_count": 0,
      "outputs": []
    },
    {
      "metadata": {
        "id": "nHwZ0-mKCg_s",
        "colab_type": "code",
        "colab": {
          "base_uri": "https://localhost:8080/",
          "height": 689
        },
        "outputId": "28cade7d-6a70-448c-ea14-9bc5a4e13ca5"
      },
      "cell_type": "code",
      "source": [
        "history = model.fit_generator(\n",
        "    train_generator, \n",
        "    steps_per_epoch = nb_train_samples // batch_size,\n",
        "    epochs = 20,\n",
        "    validation_data = validation_generator,\n",
        "    validation_steps = nb_validation_samples // batch_size)"
      ],
      "execution_count": 32,
      "outputs": [
        {
          "output_type": "stream",
          "text": [
            "Epoch 1/20\n",
            "600/600 [==============================] - 96s 160ms/step - loss: 0.6283 - acc: 0.6579 - val_loss: 0.5702 - val_acc: 0.7279\n",
            "Epoch 2/20\n",
            "600/600 [==============================] - 94s 156ms/step - loss: 0.5885 - acc: 0.7087 - val_loss: 0.5513 - val_acc: 0.7306\n",
            "Epoch 3/20\n",
            "600/600 [==============================] - 93s 155ms/step - loss: 0.5728 - acc: 0.7235 - val_loss: 0.5471 - val_acc: 0.7331\n",
            "Epoch 4/20\n",
            "600/600 [==============================] - 93s 155ms/step - loss: 0.5672 - acc: 0.7256 - val_loss: 0.5714 - val_acc: 0.7294\n",
            "Epoch 5/20\n",
            "600/600 [==============================] - 93s 156ms/step - loss: 0.5638 - acc: 0.7275 - val_loss: 0.5543 - val_acc: 0.7298\n",
            "Epoch 6/20\n",
            "600/600 [==============================] - 93s 156ms/step - loss: 0.5575 - acc: 0.7330 - val_loss: 0.5464 - val_acc: 0.7377\n",
            "Epoch 7/20\n",
            "600/600 [==============================] - 94s 156ms/step - loss: 0.5626 - acc: 0.7328 - val_loss: 0.5423 - val_acc: 0.7428\n",
            "Epoch 8/20\n",
            "600/600 [==============================] - 93s 156ms/step - loss: 0.5571 - acc: 0.7333 - val_loss: 0.5857 - val_acc: 0.7181\n",
            "Epoch 9/20\n",
            "600/600 [==============================] - 93s 156ms/step - loss: 0.5557 - acc: 0.7314 - val_loss: 0.5345 - val_acc: 0.7428\n",
            "Epoch 10/20\n",
            "600/600 [==============================] - 93s 155ms/step - loss: 0.5535 - acc: 0.7329 - val_loss: 0.5201 - val_acc: 0.7419\n",
            "Epoch 11/20\n",
            "600/600 [==============================] - 93s 155ms/step - loss: 0.5530 - acc: 0.7350 - val_loss: 0.5357 - val_acc: 0.7306\n",
            "Epoch 12/20\n",
            "600/600 [==============================] - 93s 155ms/step - loss: 0.5519 - acc: 0.7368 - val_loss: 0.5342 - val_acc: 0.7394\n",
            "Epoch 13/20\n",
            "600/600 [==============================] - 93s 155ms/step - loss: 0.5519 - acc: 0.7376 - val_loss: 0.5283 - val_acc: 0.7327\n",
            "Epoch 14/20\n",
            "600/600 [==============================] - 93s 155ms/step - loss: 0.5531 - acc: 0.7328 - val_loss: 0.5328 - val_acc: 0.7365\n",
            "Epoch 15/20\n",
            "600/600 [==============================] - 93s 155ms/step - loss: 0.5466 - acc: 0.7375 - val_loss: 0.5493 - val_acc: 0.7273\n",
            "Epoch 16/20\n",
            "600/600 [==============================] - 93s 154ms/step - loss: 0.5490 - acc: 0.7362 - val_loss: 0.5207 - val_acc: 0.7403\n",
            "Epoch 17/20\n",
            "600/600 [==============================] - 93s 155ms/step - loss: 0.5457 - acc: 0.7424 - val_loss: 0.5303 - val_acc: 0.7440\n",
            "Epoch 18/20\n",
            "600/600 [==============================] - 93s 154ms/step - loss: 0.5527 - acc: 0.7383 - val_loss: 0.5208 - val_acc: 0.7495\n",
            "Epoch 19/20\n",
            "600/600 [==============================] - 93s 154ms/step - loss: 0.5475 - acc: 0.7389 - val_loss: 0.5380 - val_acc: 0.7424\n",
            "Epoch 20/20\n",
            "600/600 [==============================] - 94s 156ms/step - loss: 0.5460 - acc: 0.7345 - val_loss: 0.5451 - val_acc: 0.7264\n"
          ],
          "name": "stdout"
        }
      ]
    },
    {
      "metadata": {
        "id": "RQfXGuNkXtWd",
        "colab_type": "code",
        "colab": {
          "base_uri": "https://localhost:8080/",
          "height": 282
        },
        "outputId": "4b320fab-d87d-4d7f-d166-cc7241d9ec5d"
      },
      "cell_type": "code",
      "source": [
        "plt.figure(figsize=(12,4))\n",
        "plt.subplot(131)\n",
        "plt.plot(history.epoch, history.history[\"loss\"], label=\"Train loss\")\n",
        "plt.plot(history.epoch, history.history[\"val_loss\"], label=\"Valid loss\")\n",
        "plt.legend()\n",
        "plt.subplot(132)\n",
        "plt.plot(history.epoch, history.history[\"acc\"], label=\"Train accuracy\")\n",
        "plt.plot(history.epoch, history.history[\"val_acc\"], label=\"Valid accuracy\")\n",
        "plt.legend()"
      ],
      "execution_count": 33,
      "outputs": [
        {
          "output_type": "execute_result",
          "data": {
            "text/plain": [
              "<matplotlib.legend.Legend at 0x7f62acd3cf28>"
            ]
          },
          "metadata": {
            "tags": []
          },
          "execution_count": 33
        },
        {
          "output_type": "display_data",
          "data": {
            "image/png": "[encoded data removed]",
            "text/plain": [
              "<matplotlib.figure.Figure at 0x7f62acdfcbe0>"
            ]
          },
          "metadata": {
            "tags": []
          }
        }
      ]
    },
    {
      "metadata": {
        "id": "TjMB7ooEIXFM",
        "colab_type": "text"
      },
      "cell_type": "markdown",
      "source": [
        "__\n",
        "Using a pre-trained network__"
      ]
    },
    {
      "metadata": {
        "id": "X5whLNemdEeE",
        "colab_type": "code",
        "colab": {}
      },
      "cell_type": "code",
      "source": [
        "img_width, img_height = 180, 180\n",
        "epochs = 20\n",
        "batch_size = 16"
      ],
      "execution_count": 0,
      "outputs": []
    },
    {
      "metadata": {
        "id": "272x9UwiexzD",
        "colab_type": "code",
        "colab": {}
      },
      "cell_type": "code",
      "source": [
        "K.clear_session()\n",
        "\n",
        "base_model = applications.VGG16(weights='imagenet', include_top=False, input_shape=(img_width, img_height, 3))\n",
        "\n",
        "top_model = Sequential()\n",
        "top_model.add(layers.Flatten(input_shape=base_model.output_shape[1:]))\n",
        "top_model.add(layers.Dense(256, activation='relu'))\n",
        "top_model.add(layers.Dense(1, activation='sigmoid'))"
      ],
      "execution_count": 0,
      "outputs": []
    },
    {
      "metadata": {
        "id": "bdwQQI3fIGCT",
        "colab_type": "text"
      },
      "cell_type": "markdown",
      "source": [
        "Compile the model with a SGD/momentum optimizer and a very slow learning rate."
      ]
    },
    {
      "metadata": {
        "id": "zM4m0ctFIDV-",
        "colab_type": "code",
        "colab": {}
      },
      "cell_type": "code",
      "source": [
        "model = Model(inputs=base_model.input, outputs=top_model(base_model.output))\n",
        "model.compile(loss='binary_crossentropy', optimizer=optimizers.SGD(lr=1e-4, momentum=0.9),\n",
        "              metrics=['accuracy'])"
      ],
      "execution_count": 0,
      "outputs": []
    },
    {
      "metadata": {
        "id": "uVTia5DDu7vc",
        "colab_type": "code",
        "colab": {
          "base_uri": "https://localhost:8080/",
          "height": 806
        },
        "outputId": "0b3f6f6c-19c8-4b8c-838c-6577ed610fdc"
      },
      "cell_type": "code",
      "source": [
        "model.summary()"
      ],
      "execution_count": 37,
      "outputs": [
        {
          "output_type": "stream",
          "text": [
            "_________________________________________________________________\n",
            "Layer (type)                 Output Shape              Param #   \n",
            "=================================================================\n",
            "input_1 (InputLayer)         (None, 180, 180, 3)       0         \n",
            "_________________________________________________________________\n",
            "block1_conv1 (Conv2D)        (None, 180, 180, 64)      1792      \n",
            "_________________________________________________________________\n",
            "block1_conv2 (Conv2D)        (None, 180, 180, 64)      36928     \n",
            "_________________________________________________________________\n",
            "block1_pool (MaxPooling2D)   (None, 90, 90, 64)        0         \n",
            "_________________________________________________________________\n",
            "block2_conv1 (Conv2D)        (None, 90, 90, 128)       73856     \n",
            "_________________________________________________________________\n",
            "block2_conv2 (Conv2D)        (None, 90, 90, 128)       147584    \n",
            "_________________________________________________________________\n",
            "block2_pool (MaxPooling2D)   (None, 45, 45, 128)       0         \n",
            "_________________________________________________________________\n",
            "block3_conv1 (Conv2D)        (None, 45, 45, 256)       295168    \n",
            "_________________________________________________________________\n",
            "block3_conv2 (Conv2D)        (None, 45, 45, 256)       590080    \n",
            "_________________________________________________________________\n",
            "block3_conv3 (Conv2D)        (None, 45, 45, 256)       590080    \n",
            "_________________________________________________________________\n",
            "block3_pool (MaxPooling2D)   (None, 22, 22, 256)       0         \n",
            "_________________________________________________________________\n",
            "block4_conv1 (Conv2D)        (None, 22, 22, 512)       1180160   \n",
            "_________________________________________________________________\n",
            "block4_conv2 (Conv2D)        (None, 22, 22, 512)       2359808   \n",
            "_________________________________________________________________\n",
            "block4_conv3 (Conv2D)        (None, 22, 22, 512)       2359808   \n",
            "_________________________________________________________________\n",
            "block4_pool (MaxPooling2D)   (None, 11, 11, 512)       0         \n",
            "_________________________________________________________________\n",
            "block5_conv1 (Conv2D)        (None, 11, 11, 512)       2359808   \n",
            "_________________________________________________________________\n",
            "block5_conv2 (Conv2D)        (None, 11, 11, 512)       2359808   \n",
            "_________________________________________________________________\n",
            "block5_conv3 (Conv2D)        (None, 11, 11, 512)       2359808   \n",
            "_________________________________________________________________\n",
            "block5_pool (MaxPooling2D)   (None, 5, 5, 512)         0         \n",
            "_________________________________________________________________\n",
            "sequential_1 (Sequential)    (None, 1)                 3277313   \n",
            "=================================================================\n",
            "Total params: 17,992,001\n",
            "Trainable params: 17,992,001\n",
            "Non-trainable params: 0\n",
            "_________________________________________________________________\n"
          ],
          "name": "stdout"
        }
      ]
    },
    {
      "metadata": {
        "id": "xyS2igdHeyiu",
        "colab_type": "code",
        "colab": {
          "base_uri": "https://localhost:8080/",
          "height": 689
        },
        "outputId": "b317610a-bc7a-4e5d-b651-f0f64748d4fa"
      },
      "cell_type": "code",
      "source": [
        "history_2 = model.fit_generator(\n",
        "    train_generator,\n",
        "    steps_per_epoch=nb_train_samples // batch_size,\n",
        "    epochs=epochs,\n",
        "    validation_data=validation_generator,\n",
        "    validation_steps=nb_validation_samples // batch_size,\n",
        "    verbose=2, workers=12)"
      ],
      "execution_count": 38,
      "outputs": [
        {
          "output_type": "stream",
          "text": [
            "Epoch 1/20\n",
            " - 211s - loss: 0.5437 - acc: 0.7264 - val_loss: 0.5015 - val_acc: 0.7549\n",
            "Epoch 2/20\n",
            " - 205s - loss: 0.5113 - acc: 0.7562 - val_loss: 0.4840 - val_acc: 0.7616\n",
            "Epoch 3/20\n",
            " - 205s - loss: 0.4952 - acc: 0.7626 - val_loss: 0.5164 - val_acc: 0.7503\n",
            "Epoch 4/20\n",
            " - 205s - loss: 0.4821 - acc: 0.7715 - val_loss: 0.5184 - val_acc: 0.7411\n",
            "Epoch 5/20\n",
            " - 206s - loss: 0.4741 - acc: 0.7754 - val_loss: 0.4711 - val_acc: 0.7595\n",
            "Epoch 6/20\n",
            " - 206s - loss: 0.4687 - acc: 0.7782 - val_loss: 0.4628 - val_acc: 0.7755\n",
            "Epoch 7/20\n",
            " - 206s - loss: 0.4651 - acc: 0.7784 - val_loss: 0.4774 - val_acc: 0.7692\n",
            "Epoch 8/20\n",
            " - 206s - loss: 0.4578 - acc: 0.7837 - val_loss: 0.4644 - val_acc: 0.7700\n",
            "Epoch 9/20\n",
            " - 206s - loss: 0.4573 - acc: 0.7851 - val_loss: 0.4493 - val_acc: 0.7817\n",
            "Epoch 10/20\n",
            " - 206s - loss: 0.4452 - acc: 0.7904 - val_loss: 0.4604 - val_acc: 0.7704\n",
            "Epoch 11/20\n",
            " - 206s - loss: 0.4468 - acc: 0.7935 - val_loss: 0.4583 - val_acc: 0.7742\n",
            "Epoch 12/20\n",
            " - 206s - loss: 0.4423 - acc: 0.7939 - val_loss: 0.4559 - val_acc: 0.7729\n",
            "Epoch 13/20\n",
            " - 206s - loss: 0.4336 - acc: 0.7959 - val_loss: 0.4814 - val_acc: 0.7713\n",
            "Epoch 14/20\n",
            " - 206s - loss: 0.4304 - acc: 0.7974 - val_loss: 0.4681 - val_acc: 0.7780\n",
            "Epoch 15/20\n",
            " - 206s - loss: 0.4302 - acc: 0.7984 - val_loss: 0.4680 - val_acc: 0.7675\n",
            "Epoch 16/20\n",
            " - 206s - loss: 0.4222 - acc: 0.7987 - val_loss: 0.4526 - val_acc: 0.7759\n",
            "Epoch 17/20\n",
            " - 206s - loss: 0.4270 - acc: 0.7983 - val_loss: 0.4620 - val_acc: 0.7738\n",
            "Epoch 18/20\n",
            " - 206s - loss: 0.4115 - acc: 0.8060 - val_loss: 0.4656 - val_acc: 0.7771\n",
            "Epoch 19/20\n",
            " - 207s - loss: 0.4047 - acc: 0.8138 - val_loss: 0.4605 - val_acc: 0.7729\n",
            "Epoch 20/20\n",
            " - 206s - loss: 0.4104 - acc: 0.8062 - val_loss: 0.4662 - val_acc: 0.7771\n"
          ],
          "name": "stdout"
        }
      ]
    },
    {
      "metadata": {
        "id": "CXwdlJeAsy8G",
        "colab_type": "code",
        "colab": {
          "base_uri": "https://localhost:8080/",
          "height": 282
        },
        "outputId": "9cdf1f37-8f0f-481f-c3c5-81388dc3726e"
      },
      "cell_type": "code",
      "source": [
        "plt.figure(figsize=(12,4))\n",
        "plt.subplot(131)\n",
        "plt.plot(history_2.epoch, history_2.history[\"loss\"], label=\"Train loss\")\n",
        "plt.plot(history_2.epoch, history_2.history[\"val_loss\"], label=\"Valid loss\")\n",
        "plt.legend()\n",
        "plt.subplot(132)\n",
        "plt.plot(history_2.epoch, history_2.history[\"acc\"], label=\"Train accuracy\")\n",
        "plt.plot(history_2.epoch, history_2.history[\"val_acc\"], label=\"Valid accuracy\")\n",
        "plt.legend()"
      ],
      "execution_count": 39,
      "outputs": [
        {
          "output_type": "execute_result",
          "data": {
            "text/plain": [
              "<matplotlib.legend.Legend at 0x7f62ac01dc50>"
            ]
          },
          "metadata": {
            "tags": []
          },
          "execution_count": 39
        },
        {
          "output_type": "display_data",
          "data": {
            "image/png": "[encoded data removed]",
            "text/plain": [
              "<matplotlib.figure.Figure at 0x7f62ac0c60f0>"
            ]
          },
          "metadata": {
            "tags": []
          }
        }
      ]
    },
    {
      "metadata": {
        "id": "woNKTOv3hCjO",
        "colab_type": "code",
        "colab": {}
      },
      "cell_type": "code",
      "source": [
        "model.save_weights('model_weights.h5')\n",
        "model.save('model_keras.h5')"
      ],
      "execution_count": 0,
      "outputs": []
    },
    {
      "metadata": {
        "id": "6vNsSblEiIAU",
        "colab_type": "text"
      },
      "cell_type": "markdown",
      "source": [
        "- This approach get me to a validation accuracy of __0.77-0.78__ after 20 epochs. \n",
        "- It seem the overfitting on training set. \n",
        "- Ten epochs seemed to be optimal to prevent overfitting on the tranining set after experimenting with different number of epochs.\n",
        "- Here are a few more approaches we can try to get a better results:\n",
        "  - More aggresive data augmentation.\n",
        "  - Fine-tuning more convolutional block.\n",
        "  - Try to using different pre-trained network such as RESNET52, InceptionV3, Xception, DenseNet121."
      ]
    }
  ]
}